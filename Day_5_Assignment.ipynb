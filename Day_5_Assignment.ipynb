{
  "nbformat": 4,
  "nbformat_minor": 0,
  "metadata": {
    "colab": {
      "name": "Day 5 Assignment.ipynb",
      "provenance": [],
      "collapsed_sections": []
    },
    "kernelspec": {
      "name": "python3",
      "display_name": "Python 3"
    }
  },
  "cells": [
    {
      "cell_type": "code",
      "metadata": {
        "colab": {
          "base_uri": "https://localhost:8080/"
        },
        "id": "fnpMZh14ikd_",
        "outputId": "26a27339-edca-4e36-9fba-a780ca4eeb48"
      },
      "source": [
        "pip install cryptography"
      ],
      "execution_count": 4,
      "outputs": [
        {
          "output_type": "stream",
          "text": [
            "Collecting cryptography\n",
            "\u001b[?25l  Downloading https://files.pythonhosted.org/packages/c9/de/7054df0620b5411ba45480f0261e1fb66a53f3db31b28e3aa52c026e72d9/cryptography-3.3.1-cp36-abi3-manylinux2010_x86_64.whl (2.6MB)\n",
            "\u001b[K     |████████████████████████████████| 2.6MB 7.6MB/s \n",
            "\u001b[?25hRequirement already satisfied: cffi>=1.12 in /usr/local/lib/python3.6/dist-packages (from cryptography) (1.14.4)\n",
            "Requirement already satisfied: six>=1.4.1 in /usr/local/lib/python3.6/dist-packages (from cryptography) (1.15.0)\n",
            "Requirement already satisfied: pycparser in /usr/local/lib/python3.6/dist-packages (from cffi>=1.12->cryptography) (2.20)\n",
            "Installing collected packages: cryptography\n",
            "Successfully installed cryptography-3.3.1\n"
          ],
          "name": "stdout"
        }
      ]
    },
    {
      "cell_type": "code",
      "metadata": {
        "id": "ZIIfF4o4hzN3"
      },
      "source": [
        "from cryptography.fernet import Fernet"
      ],
      "execution_count": 5,
      "outputs": []
    },
    {
      "cell_type": "code",
      "metadata": {
        "colab": {
          "base_uri": "https://localhost:8080/"
        },
        "id": "cWJicO_6iSeE",
        "outputId": "c8bfa43e-3b6e-4abf-faeb-3e545741f7f6"
      },
      "source": [
        "#Function To Generating Key\r\n",
        "def generateKey():\r\n",
        "    \r\n",
        "    key = Fernet.generate_key() #For Generating The Key\r\n",
        "    key_file = open(\"Pass_key\",\"wb\")\r\n",
        "    key_file.write(key)\r\n",
        "\r\n",
        "#Function to load the key \r\n",
        "def load_key():\r\n",
        "    return open(\"Pass_key\",\"rb\").read() #For Loading The Key\r\n",
        "\r\n",
        "#Function To Encrypt The Key\r\n",
        "def encrypt_message(message):\r\n",
        "\r\n",
        "    generateKey()\r\n",
        "    key = load_key()\r\n",
        "    encoded_message = message.encode()\r\n",
        "    f = Fernet(key)\r\n",
        "    encrypted_message = f.encrypt(encoded_message)\r\n",
        "    print(\"Encrypted Message is:\",encrypted_message)\r\n",
        "    \r\n",
        "message = input(\"Enter the Message That you want to Encrypt\\n\")\r\n",
        "encrypt_message(message)"
      ],
      "execution_count": 6,
      "outputs": [
        {
          "output_type": "stream",
          "text": [
            "Enter the Message That you want to Encrypt\n",
            "Hello world\n",
            "Encrypted Message is: b'gAAAAABf2Lcm1vdK5ShS0cMzjuz8qAhRuhv4rJn0jPOX8eLSDhmMD12hGBWo1frEeDH2J0hCBpqCkzgpCWCS92x27Il-1PJVxg=='\n"
          ],
          "name": "stdout"
        }
      ]
    },
    {
      "cell_type": "code",
      "metadata": {
        "colab": {
          "base_uri": "https://localhost:8080/"
        },
        "id": "3rumIOztiUy4",
        "outputId": "766c60e4-bb89-4927-814b-b6520c554edc"
      },
      "source": [
        "#Function to Decrypt The Key\r\n",
        "def  decrypt_message(encrypted_message):\r\n",
        "    key = load_key()\r\n",
        "    f = Fernet(key)\r\n",
        "    decrypted_message = f.decrypt(encrypted_message)\r\n",
        "    print(\"Decrypted message is:\",decrypted_message.decode())\r\n",
        "decrypt_message(b'gAAAAABf2Lcm1vdK5ShS0cMzjuz8qAhRuhv4rJn0jPOX8eLSDhmMD12hGBWo1frEeDH2J0hCBpqCkzgpCWCS92x27Il-1PJVxg==')"
      ],
      "execution_count": 8,
      "outputs": [
        {
          "output_type": "stream",
          "text": [
            "Decrypted message is: Hello world\n"
          ],
          "name": "stdout"
        }
      ]
    },
    {
      "cell_type": "code",
      "metadata": {
        "id": "MHOykmRKjAYd"
      },
      "source": [
        ""
      ],
      "execution_count": null,
      "outputs": []
    }
  ]
}