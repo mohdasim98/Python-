{
  "nbformat": 4,
  "nbformat_minor": 0,
  "metadata": {
    "colab": {
      "name": "YouTube video downloader.ipynb",
      "provenance": [],
      "collapsed_sections": []
    },
    "kernelspec": {
      "name": "python3",
      "display_name": "Python 3"
    }
  },
  "cells": [
    {
      "cell_type": "code",
      "metadata": {
        "colab": {
          "base_uri": "https://localhost:8080/"
        },
        "id": "23tuZ_6g9Zmt",
        "outputId": "29d216c1-8eb0-400a-ebcb-44aa58dd3462"
      },
      "source": [
        "pip install pytube"
      ],
      "execution_count": 1,
      "outputs": [
        {
          "output_type": "stream",
          "text": [
            "Collecting pytube\n",
            "\u001b[?25l  Downloading https://files.pythonhosted.org/packages/63/2d/5b64e61f34d193b718aa39d322eddd7a17a3cc07f56a4b27b107ea234c02/pytube-10.0.0-py3-none-any.whl (40kB)\n",
            "\r\u001b[K     |████████                        | 10kB 16.1MB/s eta 0:00:01\r\u001b[K     |████████████████                | 20kB 11.9MB/s eta 0:00:01\r\u001b[K     |████████████████████████        | 30kB 9.6MB/s eta 0:00:01\r\u001b[K     |████████████████████████████████| 40kB 3.4MB/s \n",
            "\u001b[?25hRequirement already satisfied: typing-extensions in /usr/local/lib/python3.6/dist-packages (from pytube) (3.7.4.3)\n",
            "Installing collected packages: pytube\n",
            "Successfully installed pytube-10.0.0\n"
          ],
          "name": "stdout"
        }
      ]
    },
    {
      "cell_type": "code",
      "metadata": {
        "id": "PicmcDAE9ud3"
      },
      "source": [
        "from tkinter import *\r\n",
        "from pytube import YouTube\r\n",
        "root=Tk()\r\n",
        "\r\n",
        "root.geometry(\"600x300+200+200\")\r\n",
        "root.title(\"YouTube Video Downloader\")\r\n",
        "root.configure(background=\"#F5F5F5\")\r\n",
        "root.resizable(width=False, height=False)\r\n",
        "def Youtube():\r\n",
        "    link=var.get()\r\n",
        "    ytubevideo=YouTube(link).streams.filter(file_extension='mp4').order_by('resolution').desc().first()\r\n",
        "    ytubevideo.download(\"E:\\Youtube\")\r\n",
        "l1=Label(root,text=\"YouTube Video Link\",fg=\"red\",font=(\"bold\",10))\r\n",
        "l1.place(x=90,y=100)\r\n",
        "var=StringVar()\r\n",
        "e1=Entry(root,textvariable=var,width=60)\r\n",
        "e1.place(x=220,y=100)\r\n",
        "b1=Button(root,text=\"Download\",bg=\"Green\",width=10,fg=\"White\", command=Youtube)\r\n",
        "b1.place(x=350,y=140)\r\n",
        "root.mainloop()"
      ],
      "execution_count": null,
      "outputs": []
    }
  ]
}