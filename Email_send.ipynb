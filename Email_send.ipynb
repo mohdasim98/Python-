{
  "nbformat": 4,
  "nbformat_minor": 0,
  "metadata": {
    "colab": {
      "name": "Email send.ipynb",
      "provenance": [],
      "collapsed_sections": []
    },
    "kernelspec": {
      "name": "python3",
      "display_name": "Python 3"
    }
  },
  "cells": [
    {
      "cell_type": "markdown",
      "metadata": {
        "id": "cyZGlP9C7Vqy"
      },
      "source": [
        "**Email sending using python**"
      ]
    },
    {
      "cell_type": "code",
      "metadata": {
        "colab": {
          "base_uri": "https://localhost:8080/"
        },
        "id": "GhHjAtNl7Xil",
        "outputId": "15e3c895-6760-4c46-d4b1-049eec71c4a0"
      },
      "source": [
        "!pip install emails"
      ],
      "execution_count": 1,
      "outputs": [
        {
          "output_type": "stream",
          "text": [
            "Collecting emails\n",
            "\u001b[?25l  Downloading https://files.pythonhosted.org/packages/55/7e/b648d640d88d31de49e566832aca9cce025c52d6349b0a0fc65e9df1f4c5/emails-0.6-py2.py3-none-any.whl (56kB)\n",
            "\r\u001b[K     |█████▉                          | 10kB 14.4MB/s eta 0:00:01\r\u001b[K     |███████████▋                    | 20kB 19.6MB/s eta 0:00:01\r\u001b[K     |█████████████████▌              | 30kB 10.6MB/s eta 0:00:01\r\u001b[K     |███████████████████████▎        | 40kB 8.1MB/s eta 0:00:01\r\u001b[K     |█████████████████████████████▏  | 51kB 4.4MB/s eta 0:00:01\r\u001b[K     |████████████████████████████████| 61kB 3.1MB/s \n",
            "\u001b[?25hCollecting premailer\n",
            "  Downloading https://files.pythonhosted.org/packages/cd/ce/74bbdf0eee4265fd3f161d4276b36c9238b802191c2053c8e68578bda4e6/premailer-3.7.0-py2.py3-none-any.whl\n",
            "Requirement already satisfied: chardet in /usr/local/lib/python3.6/dist-packages (from emails) (3.0.4)\n",
            "Collecting cssutils\n",
            "\u001b[?25l  Downloading https://files.pythonhosted.org/packages/6b/15/a9fb9010f58d1c55dd0b7779db2334feb9a572d407024f39a60f44293861/cssutils-1.0.2-py3-none-any.whl (406kB)\n",
            "\u001b[K     |████████████████████████████████| 409kB 7.6MB/s \n",
            "\u001b[?25hRequirement already satisfied: requests in /usr/local/lib/python3.6/dist-packages (from emails) (2.23.0)\n",
            "Requirement already satisfied: lxml in /usr/local/lib/python3.6/dist-packages (from emails) (4.2.6)\n",
            "Requirement already satisfied: python-dateutil in /usr/local/lib/python3.6/dist-packages (from emails) (2.8.1)\n",
            "Collecting cssselect\n",
            "  Downloading https://files.pythonhosted.org/packages/3b/d4/3b5c17f00cce85b9a1e6f91096e1cc8e8ede2e1be8e96b87ce1ed09e92c5/cssselect-1.1.0-py2.py3-none-any.whl\n",
            "Requirement already satisfied: cachetools in /usr/local/lib/python3.6/dist-packages (from premailer->emails) (4.2.0)\n",
            "Requirement already satisfied: certifi>=2017.4.17 in /usr/local/lib/python3.6/dist-packages (from requests->emails) (2020.12.5)\n",
            "Requirement already satisfied: urllib3!=1.25.0,!=1.25.1,<1.26,>=1.21.1 in /usr/local/lib/python3.6/dist-packages (from requests->emails) (1.24.3)\n",
            "Requirement already satisfied: idna<3,>=2.5 in /usr/local/lib/python3.6/dist-packages (from requests->emails) (2.10)\n",
            "Requirement already satisfied: six>=1.5 in /usr/local/lib/python3.6/dist-packages (from python-dateutil->emails) (1.15.0)\n",
            "Installing collected packages: cssselect, cssutils, premailer, emails\n",
            "Successfully installed cssselect-1.1.0 cssutils-1.0.2 emails-0.6 premailer-3.7.0\n"
          ],
          "name": "stdout"
        }
      ]
    },
    {
      "cell_type": "code",
      "metadata": {
        "id": "xNPr0NZr7a_L"
      },
      "source": [
        "import emails"
      ],
      "execution_count": 2,
      "outputs": []
    },
    {
      "cell_type": "code",
      "metadata": {
        "id": "MT5hyh3w7fEo"
      },
      "source": [
        "message = emails.html(html=\"<p>Hello<br>Here is your receipt...\",\r\n",
        "                          subject=\"Your receipt No.123\",\r\n",
        "                          mail_from=('Store name', 'store@xyz.com'))"
      ],
      "execution_count": 3,
      "outputs": []
    },
    {
      "cell_type": "code",
      "metadata": {
        "id": "XtokRheO7wxU"
      },
      "source": [
        "mail_python = message.send(to='reris35110@ahhtee.com', smtp={'host': 'smtp.gmail.com', 'timeout': 5,'port':587,\r\n",
        "                              'user':'xyz@g.com','password':'xyz', 'tls':True})"
      ],
      "execution_count": null,
      "outputs": []
    },
    {
      "cell_type": "code",
      "metadata": {
        "id": "1V3D_YKm79L9"
      },
      "source": [
        "mail_python.status_code"
      ],
      "execution_count": null,
      "outputs": []
    },
    {
      "cell_type": "code",
      "metadata": {
        "id": "OwQkQ4iK8AIO"
      },
      "source": [
        "#If running this gives output 250 then your mail has been delivered."
      ],
      "execution_count": null,
      "outputs": []
    },
    {
      "cell_type": "code",
      "metadata": {
        "id": "eUQg2xCx8BGh"
      },
      "source": [
        "def sendMail(email):\r\n",
        "    mail_python = message.send(to=email, smtp={'host': 'smtp.gmail.com', 'timeout': 5,'port':587,\r\n",
        "                              'user':'xyz@gmail.com','password':'xyz@1234', 'tls':True})\r\n",
        "    return mail_python.status_code"
      ],
      "execution_count": null,
      "outputs": []
    },
    {
      "cell_type": "code",
      "metadata": {
        "id": "yn0ae9oW8EWK"
      },
      "source": [
        "sendMail(\"abc123@g.com\")"
      ],
      "execution_count": null,
      "outputs": []
    }
  ]
}