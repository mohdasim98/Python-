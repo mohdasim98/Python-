{
  "nbformat": 4,
  "nbformat_minor": 0,
  "metadata": {
    "colab": {
      "name": "Day 4 Assignment.ipynb",
      "provenance": [],
      "collapsed_sections": []
    },
    "kernelspec": {
      "name": "python3",
      "display_name": "Python 3"
    }
  },
  "cells": [
    {
      "cell_type": "markdown",
      "metadata": {
        "id": "Pky-YsWjjet6"
      },
      "source": [
        "1. Write a program in python for openeing a file and writing ,and close it, and read it back again, and then append some data to it and close it."
      ]
    },
    {
      "cell_type": "code",
      "metadata": {
        "id": "sueGbA2kjQmZ"
      },
      "source": [
        "abc = open(\"Heyworld.txt\",'w')\r\n",
        "abc.write(\"Hello world\")\r\n",
        "abc.close()"
      ],
      "execution_count": 16,
      "outputs": []
    },
    {
      "cell_type": "code",
      "metadata": {
        "id": "EsdQ6u7rjoqn"
      },
      "source": [
        "abc = open(\"Heyworld.txt\",'r')\r\n",
        "content = abc.read()"
      ],
      "execution_count": 17,
      "outputs": []
    },
    {
      "cell_type": "code",
      "metadata": {
        "colab": {
          "base_uri": "https://localhost:8080/",
          "height": 35
        },
        "id": "KD-GUWWvjuab",
        "outputId": "25e7098d-f46c-4d42-cba9-3e758d6a820a"
      },
      "source": [
        "content"
      ],
      "execution_count": 18,
      "outputs": [
        {
          "output_type": "execute_result",
          "data": {
            "application/vnd.google.colaboratory.intrinsic+json": {
              "type": "string"
            },
            "text/plain": [
              "'Hello world'"
            ]
          },
          "metadata": {
            "tags": []
          },
          "execution_count": 18
        }
      ]
    },
    {
      "cell_type": "code",
      "metadata": {
        "id": "djUIKpZ-jw_g"
      },
      "source": [
        "xyz = open(\"Hey.txt\",'w')\r\n",
        "xyz.write(\"hey, how you doing?\")\r\n",
        "xyz.close()"
      ],
      "execution_count": 19,
      "outputs": []
    },
    {
      "cell_type": "code",
      "metadata": {
        "id": "2cjfGyiijzmp"
      },
      "source": [
        "xyz = open(\"Hey.txt\",'a')\r\n",
        "xyz.write(\"You are awesome\")\r\n",
        "xyz.close()"
      ],
      "execution_count": 20,
      "outputs": []
    },
    {
      "cell_type": "code",
      "metadata": {
        "colab": {
          "base_uri": "https://localhost:8080/"
        },
        "id": "Zr11no4Uj2JX",
        "outputId": "3e021a60-8fc5-4423-dad2-879a10bfbe30"
      },
      "source": [
        "xyz = open(\"Hey.txt\",'r')\r\n",
        "print(xyz.read())"
      ],
      "execution_count": 21,
      "outputs": [
        {
          "output_type": "stream",
          "text": [
            "hey, how you doing?You are awesome\n"
          ],
          "name": "stdout"
        }
      ]
    },
    {
      "cell_type": "code",
      "metadata": {
        "id": "jLsaQLMtj4kp"
      },
      "source": [
        "xyz.close()"
      ],
      "execution_count": 22,
      "outputs": []
    },
    {
      "cell_type": "markdown",
      "metadata": {
        "id": "-D0KGiGAkhtK"
      },
      "source": [
        "Write a function which can return a list of first Factorial of any numbers, given in the arguement."
      ]
    },
    {
      "cell_type": "code",
      "metadata": {
        "colab": {
          "base_uri": "https://localhost:8080/"
        },
        "id": "IRfv9YOZkjfp",
        "outputId": "fc8dda6b-dcea-46fc-ebd6-7753d95d7d54"
      },
      "source": [
        "def factorial(num):\r\n",
        "    fact = 1\r\n",
        " \r\n",
        "    for i in range(1, num + 1):\r\n",
        "        fact = fact * i\r\n",
        " \r\n",
        "    return fact\r\n",
        " \r\n",
        " \r\n",
        "number = int(input(\" Please enter any Number to find factorial : \"))\r\n",
        " \r\n",
        "facto = factorial(number)\r\n",
        "print(\"The factorial of %d  = %d\" %(number, facto))"
      ],
      "execution_count": 25,
      "outputs": [
        {
          "output_type": "stream",
          "text": [
            " Please enter any Number to find factorial : 5\n",
            "The factorial of 5  = 120\n"
          ],
          "name": "stdout"
        }
      ]
    },
    {
      "cell_type": "markdown",
      "metadata": {
        "id": "Gfiz7bNLk1V_"
      },
      "source": [
        "To Return the value:"
      ]
    },
    {
      "cell_type": "code",
      "metadata": {
        "colab": {
          "base_uri": "https://localhost:8080/"
        },
        "id": "_wlJowSMkpz7",
        "outputId": "e0020787-1124-4b72-9fed-c6899381d613"
      },
      "source": [
        "import math\r\n",
        "num = input(\"Enter a number: \")\r\n",
        "print(\"The factorial of \", num, \" is : \")\r\n",
        "print(math.factorial(int(num)))"
      ],
      "execution_count": 26,
      "outputs": [
        {
          "output_type": "stream",
          "text": [
            "Enter a number: 6\n",
            "The factorial of  6  is : \n",
            "720\n"
          ],
          "name": "stdout"
        }
      ]
    }
  ]
}