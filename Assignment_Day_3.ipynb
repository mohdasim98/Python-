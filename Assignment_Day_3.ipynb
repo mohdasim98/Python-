{
  "nbformat": 4,
  "nbformat_minor": 0,
  "metadata": {
    "colab": {
      "name": "Assignment Day 3.ipynb",
      "provenance": [],
      "collapsed_sections": []
    },
    "kernelspec": {
      "name": "python3",
      "display_name": "Python 3"
    }
  },
  "cells": [
    {
      "cell_type": "markdown",
      "metadata": {
        "id": "EwIXQ5AWJ511"
      },
      "source": [
        "Question 1\r\n",
        "\r\n",
        "Use IF ELSE and ELIF to write a program in python for your Report Cards."
      ]
    },
    {
      "cell_type": "code",
      "metadata": {
        "colab": {
          "base_uri": "https://localhost:8080/"
        },
        "id": "UwKrcyVUKhrT",
        "outputId": "4ccb4811-e076-4d1d-9004-4e4da4750f0f"
      },
      "source": [
        "print('Enter the percentage of student:')\r\n",
        "a = input()\r\n",
        "a = int(a.strip())\r\n",
        "if(a>85):#if percent > 85 --A\r\n",
        "    print('Grade - \\'A\\'')\r\n",
        "elif(a<=85 and a>80):#80<percent80=85  --A-\r\n",
        "    print('Grade - \\'A-\\'')\r\n",
        "elif(a>70 and a<=80):#70<percent<=80 --B\r\n",
        "    print('Grade - \\'B\\'')\r\n",
        "elif(a>60 and a<=70):#60<percent<=70  --C\r\n",
        "    print('Grade - \\'C\\'')\r\n",
        "elif(a>40 and a<=60):#40<percent<=60  --D\r\n",
        "    print('Grade - \\'D\\'')\r\n",
        "elif(a<=40):#percent<=40  --E\r\n",
        "    if(a<=35):#failed condition\r\n",
        "        print('Grade - \\'E\\' Candidate failed')\r\n",
        "    else:\r\n",
        "        print('Grade - \\'E\\'')\r\n"
      ],
      "execution_count": 25,
      "outputs": [
        {
          "output_type": "stream",
          "text": [
            "Enter the percentage of student:\n",
            "92\n",
            "Grade - 'A'\n"
          ],
          "name": "stdout"
        }
      ]
    },
    {
      "cell_type": "markdown",
      "metadata": {
        "id": "2-ICFhR0PWi7"
      },
      "source": [
        "Question 2\r\n",
        "\r\n",
        "Use For Loop to Print Prime Numbers in between 1 to 1000"
      ]
    },
    {
      "cell_type": "code",
      "metadata": {
        "colab": {
          "base_uri": "https://localhost:8080/"
        },
        "id": "4zLbA8NJKiGZ",
        "outputId": "6ffa60d7-803c-4f1a-bc7d-105742d331c5"
      },
      "source": [
        "# Python program to display all the prime numbers within an interval\r\n",
        "\r\n",
        "lower = 1\r\n",
        "upper = 1000\r\n",
        "\r\n",
        "print(\"Prime numbers between\", lower, \"and\", upper, \"are:\")\r\n",
        "\r\n",
        "for num in range(lower, upper + 1):\r\n",
        "   # all prime numbers are greater than 1\r\n",
        "   if num > 1:\r\n",
        "       for i in range(2, num):\r\n",
        "           if (num % i) == 0:\r\n",
        "               break\r\n",
        "       else:\r\n",
        "           print(num)"
      ],
      "execution_count": 26,
      "outputs": [
        {
          "output_type": "stream",
          "text": [
            "Prime numbers between 1 and 1000 are:\n",
            "2\n",
            "3\n",
            "5\n",
            "7\n",
            "11\n",
            "13\n",
            "17\n",
            "19\n",
            "23\n",
            "29\n",
            "31\n",
            "37\n",
            "41\n",
            "43\n",
            "47\n",
            "53\n",
            "59\n",
            "61\n",
            "67\n",
            "71\n",
            "73\n",
            "79\n",
            "83\n",
            "89\n",
            "97\n",
            "101\n",
            "103\n",
            "107\n",
            "109\n",
            "113\n",
            "127\n",
            "131\n",
            "137\n",
            "139\n",
            "149\n",
            "151\n",
            "157\n",
            "163\n",
            "167\n",
            "173\n",
            "179\n",
            "181\n",
            "191\n",
            "193\n",
            "197\n",
            "199\n",
            "211\n",
            "223\n",
            "227\n",
            "229\n",
            "233\n",
            "239\n",
            "241\n",
            "251\n",
            "257\n",
            "263\n",
            "269\n",
            "271\n",
            "277\n",
            "281\n",
            "283\n",
            "293\n",
            "307\n",
            "311\n",
            "313\n",
            "317\n",
            "331\n",
            "337\n",
            "347\n",
            "349\n",
            "353\n",
            "359\n",
            "367\n",
            "373\n",
            "379\n",
            "383\n",
            "389\n",
            "397\n",
            "401\n",
            "409\n",
            "419\n",
            "421\n",
            "431\n",
            "433\n",
            "439\n",
            "443\n",
            "449\n",
            "457\n",
            "461\n",
            "463\n",
            "467\n",
            "479\n",
            "487\n",
            "491\n",
            "499\n",
            "503\n",
            "509\n",
            "521\n",
            "523\n",
            "541\n",
            "547\n",
            "557\n",
            "563\n",
            "569\n",
            "571\n",
            "577\n",
            "587\n",
            "593\n",
            "599\n",
            "601\n",
            "607\n",
            "613\n",
            "617\n",
            "619\n",
            "631\n",
            "641\n",
            "643\n",
            "647\n",
            "653\n",
            "659\n",
            "661\n",
            "673\n",
            "677\n",
            "683\n",
            "691\n",
            "701\n",
            "709\n",
            "719\n",
            "727\n",
            "733\n",
            "739\n",
            "743\n",
            "751\n",
            "757\n",
            "761\n",
            "769\n",
            "773\n",
            "787\n",
            "797\n",
            "809\n",
            "811\n",
            "821\n",
            "823\n",
            "827\n",
            "829\n",
            "839\n",
            "853\n",
            "857\n",
            "859\n",
            "863\n",
            "877\n",
            "881\n",
            "883\n",
            "887\n",
            "907\n",
            "911\n",
            "919\n",
            "929\n",
            "937\n",
            "941\n",
            "947\n",
            "953\n",
            "967\n",
            "971\n",
            "977\n",
            "983\n",
            "991\n",
            "997\n"
          ],
          "name": "stdout"
        }
      ]
    },
    {
      "cell_type": "markdown",
      "metadata": {
        "id": "rUE1FgpyPce1"
      },
      "source": [
        "Question 3\r\n",
        "\r\n",
        "Write a program for printing the tables from 1,10 using Nested For Loop\r\n"
      ]
    },
    {
      "cell_type": "code",
      "metadata": {
        "colab": {
          "base_uri": "https://localhost:8080/"
        },
        "id": "YbgRMsHUJhCZ",
        "outputId": "5b7266e3-38fc-479a-9789-182106ba6077"
      },
      "source": [
        "num = 12\r\n",
        "# Iterate 10 times from i = 1 to 10\r\n",
        "for i in range(1, 11):\r\n",
        "   print(num, 'x', i, '=', num*i)"
      ],
      "execution_count": 27,
      "outputs": [
        {
          "output_type": "stream",
          "text": [
            "12 x 1 = 12\n",
            "12 x 2 = 24\n",
            "12 x 3 = 36\n",
            "12 x 4 = 48\n",
            "12 x 5 = 60\n",
            "12 x 6 = 72\n",
            "12 x 7 = 84\n",
            "12 x 8 = 96\n",
            "12 x 9 = 108\n",
            "12 x 10 = 120\n"
          ],
          "name": "stdout"
        }
      ]
    },
    {
      "cell_type": "markdown",
      "metadata": {
        "id": "xnjNFylpPks2"
      },
      "source": [
        "Question 4\r\n",
        "\r\n",
        "Write a program to Print X Prime Numbers using While Loop starting from 0, and take the INput of X from\r\n",
        "the user"
      ]
    },
    {
      "cell_type": "code",
      "metadata": {
        "colab": {
          "base_uri": "https://localhost:8080/"
        },
        "id": "eFyOE4PTLruR",
        "outputId": "3b58b61f-15f3-4700-d1dc-05671900b686"
      },
      "source": [
        "lower = 1\r\n",
        "upper = int(input(\"Enter upper value:\"))\r\n",
        "\r\n",
        "print(\"Prime numbers between\", lower, \"and\", upper, \"are:\")\r\n",
        "\r\n",
        "for num in range(lower, upper + 1):\r\n",
        "   if num > 1:\r\n",
        "       for i in range(2, num):\r\n",
        "           if (num % i) == 0:\r\n",
        "               break\r\n",
        "       else:\r\n",
        "           print(num)\r\n",
        "          "
      ],
      "execution_count": 28,
      "outputs": [
        {
          "output_type": "stream",
          "text": [
            "Enter upper value:6\n",
            "Prime numbers between 1 and 6 are:\n",
            "2\n",
            "3\n",
            "5\n"
          ],
          "name": "stdout"
        }
      ]
    },
    {
      "cell_type": "code",
      "metadata": {
        "id": "T-lGIlULMXnv"
      },
      "source": [
        "7"
      ],
      "execution_count": null,
      "outputs": []
    }
  ]
}