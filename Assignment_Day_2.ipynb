{
  "nbformat": 4,
  "nbformat_minor": 0,
  "metadata": {
    "colab": {
      "name": "Assignment Day 2.ipynb",
      "provenance": [],
      "collapsed_sections": []
    },
    "kernelspec": {
      "name": "python3",
      "display_name": "Python 3"
    }
  },
  "cells": [
    {
      "cell_type": "markdown",
      "metadata": {
        "id": "FywTxIm-DI6C"
      },
      "source": [
        "Question 1\r\n",
        "\r\n",
        "Try 5 Different functions of the String in Python.\r\n",
        "For example - index, split function."
      ]
    },
    {
      "cell_type": "code",
      "metadata": {
        "colab": {
          "base_uri": "https://localhost:8080/"
        },
        "id": "ctLvSBwvDTKQ",
        "outputId": "09d97a2c-aa41-475a-b805-2741266d7304"
      },
      "source": [
        "#String length\r\n",
        "a = \"Hello world\"\r\n",
        "print(len(a))"
      ],
      "execution_count": 24,
      "outputs": [
        {
          "output_type": "stream",
          "text": [
            "11\n"
          ],
          "name": "stdout"
        }
      ]
    },
    {
      "cell_type": "code",
      "metadata": {
        "colab": {
          "base_uri": "https://localhost:8080/"
        },
        "id": "4HqzqG7eC3zd",
        "outputId": "0790d28e-ce87-4519-fe8f-c9c96bf00429"
      },
      "source": [
        "#String concatenate\r\n",
        "a = \"Hello\"\r\n",
        "b = \" world\"\r\n",
        "c = a + b\r\n",
        "print(c)"
      ],
      "execution_count": 25,
      "outputs": [
        {
          "output_type": "stream",
          "text": [
            "Hello world\n"
          ],
          "name": "stdout"
        }
      ]
    },
    {
      "cell_type": "code",
      "metadata": {
        "colab": {
          "base_uri": "https://localhost:8080/"
        },
        "id": "P0yZKGDED6r-",
        "outputId": "dbae4c5a-c288-43b1-dff2-409b5a9c279c"
      },
      "source": [
        "#Upper case\r\n",
        "a = \"Hello world!\"\r\n",
        "print(a.upper())"
      ],
      "execution_count": 27,
      "outputs": [
        {
          "output_type": "stream",
          "text": [
            "HELLO WORLD!\n"
          ],
          "name": "stdout"
        }
      ]
    },
    {
      "cell_type": "code",
      "metadata": {
        "colab": {
          "base_uri": "https://localhost:8080/"
        },
        "id": "B5NzNhduEFl0",
        "outputId": "52bd57ce-80bc-41a0-a19d-d3d44b5499f1"
      },
      "source": [
        "#Lower case\r\n",
        "a = \"Hello world!\"\r\n",
        "print(a.lower())"
      ],
      "execution_count": 28,
      "outputs": [
        {
          "output_type": "stream",
          "text": [
            "hello world!\n"
          ],
          "name": "stdout"
        }
      ]
    },
    {
      "cell_type": "code",
      "metadata": {
        "colab": {
          "base_uri": "https://localhost:8080/"
        },
        "id": "S9zY9zkhELHn",
        "outputId": "2f18dc71-fc96-4320-bb23-713e2b229c8a"
      },
      "source": [
        "#String slicing\r\n",
        "b = \"Hello world!\"\r\n",
        "print(b[2:8])"
      ],
      "execution_count": 29,
      "outputs": [
        {
          "output_type": "stream",
          "text": [
            "llo wo\n"
          ],
          "name": "stdout"
        }
      ]
    },
    {
      "cell_type": "markdown",
      "metadata": {
        "id": "2HSZk3IsEehQ"
      },
      "source": [
        "Question 2\r\n",
        "\r\n",
        "Try 5 Different functions of the List object in Python"
      ]
    },
    {
      "cell_type": "code",
      "metadata": {
        "colab": {
          "base_uri": "https://localhost:8080/"
        },
        "id": "zuVYksNzEVTq",
        "outputId": "89436434-df9f-4869-d2e3-81c612a2c7ef"
      },
      "source": [
        "#List length\r\n",
        "list = [\"apple\", \"banana\", \"cherry\"]\r\n",
        "print(len(list))"
      ],
      "execution_count": 30,
      "outputs": [
        {
          "output_type": "stream",
          "text": [
            "3\n"
          ],
          "name": "stdout"
        }
      ]
    },
    {
      "cell_type": "code",
      "metadata": {
        "colab": {
          "base_uri": "https://localhost:8080/"
        },
        "id": "rEFkbCsgEovg",
        "outputId": "5cda9df7-d260-4188-eb1a-0da602a04fa6"
      },
      "source": [
        "#Append items\r\n",
        "list = [\"apple\", \"banana\", \"cherry\"]\r\n",
        "list.append(\"orange\")\r\n",
        "print(list)"
      ],
      "execution_count": 31,
      "outputs": [
        {
          "output_type": "stream",
          "text": [
            "['apple', 'banana', 'cherry', 'orange']\n"
          ],
          "name": "stdout"
        }
      ]
    },
    {
      "cell_type": "code",
      "metadata": {
        "colab": {
          "base_uri": "https://localhost:8080/"
        },
        "id": "NiCt-GdSE6R9",
        "outputId": "e374118c-3a4b-46df-8f9c-9616dc8c7f76"
      },
      "source": [
        "#Insert items\r\n",
        "list = [\"apple\", \"banana\", \"cherry\"]\r\n",
        "list.insert(1, \"orange\")\r\n",
        "print(list)"
      ],
      "execution_count": 32,
      "outputs": [
        {
          "output_type": "stream",
          "text": [
            "['apple', 'orange', 'banana', 'cherry']\n"
          ],
          "name": "stdout"
        }
      ]
    },
    {
      "cell_type": "code",
      "metadata": {
        "colab": {
          "base_uri": "https://localhost:8080/"
        },
        "id": "_hEq1tZSE_CV",
        "outputId": "50ac31e8-7f0e-49e9-bf2a-936492867d0d"
      },
      "source": [
        "#Remove specified item\r\n",
        "list = [\"apple\", \"banana\", \"cherry\"]\r\n",
        "list.remove(\"banana\")\r\n",
        "print(list)"
      ],
      "execution_count": 33,
      "outputs": [
        {
          "output_type": "stream",
          "text": [
            "['apple', 'cherry']\n"
          ],
          "name": "stdout"
        }
      ]
    },
    {
      "cell_type": "code",
      "metadata": {
        "colab": {
          "base_uri": "https://localhost:8080/"
        },
        "id": "Uq8HrlSKFGGy",
        "outputId": "080f5a0d-b10f-458f-d15c-b6a10839013f"
      },
      "source": [
        "# Remove last item\r\n",
        "list = [\"apple\", \"banana\", \"cherry\"]\r\n",
        "list.pop()\r\n",
        "print(list)"
      ],
      "execution_count": 34,
      "outputs": [
        {
          "output_type": "stream",
          "text": [
            "['apple', 'banana']\n"
          ],
          "name": "stdout"
        }
      ]
    },
    {
      "cell_type": "markdown",
      "metadata": {
        "id": "cKs7RQLMFXM2"
      },
      "source": [
        "Question 3\r\n",
        "\r\n",
        "Experiment with at least 5 default functions of Dictionary"
      ]
    },
    {
      "cell_type": "code",
      "metadata": {
        "colab": {
          "base_uri": "https://localhost:8080/"
        },
        "id": "ispvEWf5FQ56",
        "outputId": "e933f37d-85c0-4b9a-a2bf-75187adbe6e8"
      },
      "source": [
        "#Get items\r\n",
        "car = {\r\n",
        "\"brand\": \"Ford\",\r\n",
        "\"model\": \"Mustang\",\r\n",
        "\"year\": 1964\r\n",
        "}\r\n",
        "\r\n",
        "x = car.items()\r\n",
        "\r\n",
        "print(x)"
      ],
      "execution_count": 37,
      "outputs": [
        {
          "output_type": "stream",
          "text": [
            "dict_items([('brand', 'Ford'), ('model', 'Mustang'), ('year', 1964)])\n"
          ],
          "name": "stdout"
        }
      ]
    },
    {
      "cell_type": "code",
      "metadata": {
        "colab": {
          "base_uri": "https://localhost:8080/"
        },
        "id": "2yotyb8xFtGg",
        "outputId": "9fa9d721-9a83-498b-f207-04228a188894"
      },
      "source": [
        "#Update\r\n",
        "dict = {\r\n",
        "  \"brand\": \"Ford\",\r\n",
        "  \"model\": \"Mustang\",\r\n",
        "  \"year\": 1964\r\n",
        "}\r\n",
        "dict.update({\"year\": 2020})\r\n",
        "print(dict)"
      ],
      "execution_count": 38,
      "outputs": [
        {
          "output_type": "stream",
          "text": [
            "{'brand': 'Ford', 'model': 'Mustang', 'year': 2020}\n"
          ],
          "name": "stdout"
        }
      ]
    },
    {
      "cell_type": "code",
      "metadata": {
        "colab": {
          "base_uri": "https://localhost:8080/"
        },
        "id": "smYHtizfF1_z",
        "outputId": "65e5d532-1170-43bc-ff41-63289e926ed9"
      },
      "source": [
        "#Add items\r\n",
        "dict = {\r\n",
        "  \"brand\": \"Ford\",\r\n",
        "  \"model\": \"Mustang\",\r\n",
        "  \"year\": 1964\r\n",
        "}\r\n",
        "dict[\"color\"] = \"red\"\r\n",
        "print(dict)"
      ],
      "execution_count": 39,
      "outputs": [
        {
          "output_type": "stream",
          "text": [
            "{'brand': 'Ford', 'model': 'Mustang', 'year': 1964, 'color': 'red'}\n"
          ],
          "name": "stdout"
        }
      ]
    },
    {
      "cell_type": "code",
      "metadata": {
        "colab": {
          "base_uri": "https://localhost:8080/"
        },
        "id": "ZQpJne-OGGde",
        "outputId": "8042d0ac-68b8-48ed-eb52-30c0676f55c2"
      },
      "source": [
        "#Clear\r\n",
        "dict = {\r\n",
        "  \"brand\": \"Ford\",\r\n",
        "  \"model\": \"Mustang\",\r\n",
        "  \"year\": 1964\r\n",
        "}\r\n",
        "dict.clear()\r\n",
        "print(dict)"
      ],
      "execution_count": 43,
      "outputs": [
        {
          "output_type": "stream",
          "text": [
            "{}\n"
          ],
          "name": "stdout"
        }
      ]
    },
    {
      "cell_type": "code",
      "metadata": {
        "colab": {
          "base_uri": "https://localhost:8080/"
        },
        "id": "6uup_07XGLTN",
        "outputId": "e61ebb0d-9ff4-4dc3-ddb3-bb5bbd337894"
      },
      "source": [
        "#Pop method\r\n",
        "dict = {\r\n",
        "  \"brand\": \"Ford\",\r\n",
        "  \"model\": \"Mustang\",\r\n",
        "  \"year\": 1964\r\n",
        "}\r\n",
        "dict.pop(\"model\")\r\n",
        "print(dict) "
      ],
      "execution_count": 42,
      "outputs": [
        {
          "output_type": "stream",
          "text": [
            "{'brand': 'Ford', 'year': 1964}\n"
          ],
          "name": "stdout"
        }
      ]
    },
    {
      "cell_type": "code",
      "metadata": {
        "id": "MpyzwvGxGdUk"
      },
      "source": [
        ""
      ],
      "execution_count": null,
      "outputs": []
    }
  ]
}